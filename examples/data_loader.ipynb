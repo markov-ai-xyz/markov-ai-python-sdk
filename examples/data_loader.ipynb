{
 "cells": [
  {
   "cell_type": "code",
   "execution_count": 1,
   "id": "d86f3a74-3d01-48bd-ac68-676291b979cf",
   "metadata": {},
   "outputs": [],
   "source": [
    "from markov_ai import DataLoader"
   ]
  },
  {
   "cell_type": "code",
   "execution_count": 2,
   "id": "082fe65a-d838-4ed9-92f5-f324ccb8dbf7",
   "metadata": {},
   "outputs": [
    {
     "data": {
      "text/plain": [
       "True"
      ]
     },
     "execution_count": 2,
     "metadata": {},
     "output_type": "execute_result"
    }
   ],
   "source": [
    "import os\n",
    "from dotenv import load_dotenv\n",
    "load_dotenv()"
   ]
  },
  {
   "cell_type": "code",
   "execution_count": 3,
   "id": "c855d094-0b13-4d5c-8e4e-1cf3f08a3a11",
   "metadata": {},
   "outputs": [],
   "source": [
    "api_key = os.getenv('MARKOV_AI_API_KEY')"
   ]
  },
  {
   "cell_type": "code",
   "execution_count": 4,
   "id": "bec72ed9-bb89-4010-af45-51d80021c723",
   "metadata": {},
   "outputs": [],
   "source": [
    "data_loader = DataLoader(api_key=api_key)"
   ]
  },
  {
   "cell_type": "code",
   "execution_count": 5,
   "id": "f9a8b9de-e8ad-410b-a4dc-ff7769bd84cc",
   "metadata": {},
   "outputs": [
    {
     "data": {
      "text/plain": [
       "True"
      ]
     },
     "execution_count": 5,
     "metadata": {},
     "output_type": "execute_result"
    }
   ],
   "source": [
    "data_loader.upload('./sample_content/apple.txt')"
   ]
  },
  {
   "cell_type": "code",
   "execution_count": null,
   "id": "fe43ba88-e748-475b-8a7d-8fd3c9259e61",
   "metadata": {},
   "outputs": [],
   "source": []
  }
 ],
 "metadata": {
  "kernelspec": {
   "display_name": "Python 3.11",
   "language": "python",
   "name": "python311"
  },
  "language_info": {
   "codemirror_mode": {
    "name": "ipython",
    "version": 3
   },
   "file_extension": ".py",
   "mimetype": "text/x-python",
   "name": "python",
   "nbconvert_exporter": "python",
   "pygments_lexer": "ipython3",
   "version": "3.11.10"
  }
 },
 "nbformat": 4,
 "nbformat_minor": 5
}
