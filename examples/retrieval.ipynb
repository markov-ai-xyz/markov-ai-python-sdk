{
 "cells": [
  {
   "cell_type": "code",
   "execution_count": 8,
   "id": "7cf1e967-13fb-4d2b-b683-b4cfd9790f37",
   "metadata": {},
   "outputs": [],
   "source": [
    "from markov_ai import DatabaseService, Destination, Retriever"
   ]
  },
  {
   "cell_type": "code",
   "execution_count": 2,
   "id": "1b3109f7-0a66-4d8a-b115-d4af361882d8",
   "metadata": {},
   "outputs": [
    {
     "data": {
      "text/plain": [
       "True"
      ]
     },
     "execution_count": 2,
     "metadata": {},
     "output_type": "execute_result"
    }
   ],
   "source": [
    "import os\n",
    "from dotenv import load_dotenv\n",
    "load_dotenv()"
   ]
  },
  {
   "cell_type": "code",
   "execution_count": 3,
   "id": "0249bd16-32fd-40bc-8507-66517ba8f8a6",
   "metadata": {},
   "outputs": [],
   "source": [
    "OPEN_AI_API_KEY = os.getenv('OPEN_AI_API_KEY')\n",
    "NEO4J_URI = os.getenv('DB_URI')\n",
    "NEO4J_USERNAME = os.getenv('DB_USERNAME')\n",
    "NEO4J_PASSWORD = os.getenv('DB_PASSWORD')"
   ]
  },
  {
   "cell_type": "code",
   "execution_count": 9,
   "id": "c73cfcfc-f933-4866-882b-47781a0fd570",
   "metadata": {},
   "outputs": [],
   "source": [
    "destination = Destination(db_service=DatabaseService.NEO4J, db_uri=NEO4J_URI, db_username=NEO4J_USERNAME, db_password=NEO4J_PASSWORD)"
   ]
  },
  {
   "cell_type": "code",
   "execution_count": 10,
   "id": "29e2d116-19b3-467d-8e64-7d5ea9c98721",
   "metadata": {},
   "outputs": [],
   "source": [
    "retriever = Retriever(open_ai_api_key=OPEN_AI_API_KEY, destination=destination)"
   ]
  },
  {
   "cell_type": "code",
   "execution_count": 11,
   "id": "39919077-5288-40bb-83be-f87cd2c163ab",
   "metadata": {},
   "outputs": [
    {
     "ename": "NameError",
     "evalue": "name 'get_embedding' is not defined",
     "output_type": "error",
     "traceback": [
      "\u001b[0;31m---------------------------------------------------------------------------\u001b[0m",
      "\u001b[0;31mNameError\u001b[0m                                 Traceback (most recent call last)",
      "Cell \u001b[0;32mIn[11], line 2\u001b[0m\n\u001b[1;32m      1\u001b[0m query_text \u001b[38;5;241m=\u001b[39m \u001b[38;5;124m\"\u001b[39m\u001b[38;5;124mRheumatoid arthritis\u001b[39m\u001b[38;5;124m\"\u001b[39m\n\u001b[0;32m----> 2\u001b[0m similar_items \u001b[38;5;241m=\u001b[39m \u001b[43mretriever\u001b[49m\u001b[38;5;241;43m.\u001b[39;49m\u001b[43mfind_similar_items\u001b[49m\u001b[43m(\u001b[49m\u001b[43mquery_text\u001b[49m\u001b[43m)\u001b[49m\n\u001b[1;32m      3\u001b[0m \u001b[38;5;28mprint\u001b[39m(similar_items)\n",
      "File \u001b[0;32m~/Desktop/MarkovMisc/markov-ai-python-sdk/markov_ai/retriever.py:16\u001b[0m, in \u001b[0;36mRetriever.find_similar_items\u001b[0;34m(self, query, top_k)\u001b[0m\n\u001b[1;32m     14\u001b[0m \u001b[38;5;28;01mdef\u001b[39;00m \u001b[38;5;21mfind_similar_items\u001b[39m(\u001b[38;5;28mself\u001b[39m, query: \u001b[38;5;28mstr\u001b[39m, top_k: \u001b[38;5;28mint\u001b[39m \u001b[38;5;241m=\u001b[39m \u001b[38;5;241m5\u001b[39m) \u001b[38;5;241m-\u001b[39m\u001b[38;5;241m>\u001b[39m List[Tuple[\u001b[38;5;28mstr\u001b[39m, \u001b[38;5;28mfloat\u001b[39m]]:\n\u001b[1;32m     15\u001b[0m \u001b[38;5;250m    \u001b[39m\u001b[38;5;124;03m\"\"\"Find similar items using vector similarity search.\"\"\"\u001b[39;00m\n\u001b[0;32m---> 16\u001b[0m     query_embedding \u001b[38;5;241m=\u001b[39m \u001b[43mget_embedding\u001b[49m(\u001b[38;5;28mself\u001b[39m\u001b[38;5;241m.\u001b[39mopenai_client, query)\n\u001b[1;32m     17\u001b[0m     norm_query_embedding \u001b[38;5;241m=\u001b[39m query_embedding \u001b[38;5;241m/\u001b[39m np\u001b[38;5;241m.\u001b[39mlinalg\u001b[38;5;241m.\u001b[39mnorm(query_embedding)\n\u001b[1;32m     18\u001b[0m     result \u001b[38;5;241m=\u001b[39m \u001b[38;5;28mself\u001b[39m\u001b[38;5;241m.\u001b[39msession\u001b[38;5;241m.\u001b[39mrun(\u001b[38;5;124m\"\"\"\u001b[39m\n\u001b[1;32m     19\u001b[0m \u001b[38;5;124m        MATCH (i)\u001b[39m\n\u001b[1;32m     20\u001b[0m \u001b[38;5;124m        WHERE i.embedding IS NOT NULL\u001b[39m\n\u001b[0;32m   (...)\u001b[0m\n\u001b[1;32m     30\u001b[0m \u001b[38;5;124m        RETURN i.text as item, similarity as score\u001b[39m\n\u001b[1;32m     31\u001b[0m \u001b[38;5;124m    \u001b[39m\u001b[38;5;124m\"\"\"\u001b[39m, embedding\u001b[38;5;241m=\u001b[39mnorm_query_embedding, top_k\u001b[38;5;241m=\u001b[39mtop_k)\n",
      "\u001b[0;31mNameError\u001b[0m: name 'get_embedding' is not defined"
     ]
    }
   ],
   "source": [
    "query_text = \"Rheumatoid arthritis\"\n",
    "similar_items = retriever.find_similar_items(query_text)\n",
    "print(similar_items)"
   ]
  },
  {
   "cell_type": "code",
   "execution_count": null,
   "id": "52ccb442-fc0e-4e5b-94d0-d883cc741d0d",
   "metadata": {},
   "outputs": [],
   "source": []
  }
 ],
 "metadata": {
  "kernelspec": {
   "display_name": "Python 3.11",
   "language": "python",
   "name": "python311"
  },
  "language_info": {
   "codemirror_mode": {
    "name": "ipython",
    "version": 3
   },
   "file_extension": ".py",
   "mimetype": "text/x-python",
   "name": "python",
   "nbconvert_exporter": "python",
   "pygments_lexer": "ipython3",
   "version": "3.11.10"
  }
 },
 "nbformat": 4,
 "nbformat_minor": 5
}
