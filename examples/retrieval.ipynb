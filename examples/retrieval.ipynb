{
 "cells": [
  {
   "cell_type": "code",
   "execution_count": 1,
   "id": "7cf1e967-13fb-4d2b-b683-b4cfd9790f37",
   "metadata": {},
   "outputs": [],
   "source": [
    "from markov_ai import DatabaseService, Destination, Retriever"
   ]
  },
  {
   "cell_type": "code",
   "execution_count": 2,
   "id": "1b3109f7-0a66-4d8a-b115-d4af361882d8",
   "metadata": {},
   "outputs": [
    {
     "data": {
      "text/plain": [
       "True"
      ]
     },
     "execution_count": 2,
     "metadata": {},
     "output_type": "execute_result"
    }
   ],
   "source": [
    "import os\n",
    "from dotenv import load_dotenv\n",
    "load_dotenv()"
   ]
  },
  {
   "cell_type": "code",
   "execution_count": 3,
   "id": "0249bd16-32fd-40bc-8507-66517ba8f8a6",
   "metadata": {},
   "outputs": [],
   "source": [
    "OPEN_AI_API_KEY = os.getenv('OPEN_AI_API_KEY')\n",
    "NEO4J_URI = os.getenv('DB_URI')\n",
    "NEO4J_USERNAME = os.getenv('DB_USERNAME')\n",
    "NEO4J_PASSWORD = os.getenv('DB_PASSWORD')"
   ]
  },
  {
   "cell_type": "code",
   "execution_count": 4,
   "id": "c73cfcfc-f933-4866-882b-47781a0fd570",
   "metadata": {},
   "outputs": [],
   "source": [
    "destination = Destination(db_service=DatabaseService.NEO4J, db_uri=NEO4J_URI, db_username=NEO4J_USERNAME, db_password=NEO4J_PASSWORD)"
   ]
  },
  {
   "cell_type": "code",
   "execution_count": 5,
   "id": "29e2d116-19b3-467d-8e64-7d5ea9c98721",
   "metadata": {},
   "outputs": [],
   "source": [
    "retriever = Retriever(open_ai_api_key=OPEN_AI_API_KEY, destination=destination)"
   ]
  },
  {
   "cell_type": "code",
   "execution_count": 6,
   "id": "39919077-5288-40bb-83be-f87cd2c163ab",
   "metadata": {},
   "outputs": [
    {
     "name": "stdout",
     "output_type": "stream",
     "text": [
      "[('Normal gait', -0.012393480866615392), ('Moving all four limbs equally', -0.014312417977414333), ('Insidious onset gradually progressive bilaterally asymmetrical (left>right) lower limb weakness', -0.016808393789608266), ('Normal cerebellar system', -0.020683157515858985), ('Arterial feeder from left L2 & left L1 segmental spinal artery', -0.02136377082588791)]\n"
     ]
    }
   ],
   "source": [
    "query_text = \"Rheumatoid arthritis\"\n",
    "similar_items = retriever.find_similar_items(query_text)\n",
    "print(similar_items)"
   ]
  },
  {
   "cell_type": "code",
   "execution_count": 7,
   "id": "52ccb442-fc0e-4e5b-94d0-d883cc741d0d",
   "metadata": {},
   "outputs": [
    {
     "name": "stdout",
     "output_type": "stream",
     "text": [
      "{'Normal gait': ['Clobazam 2.5mg/ml', 'Levetiracetam 100mg/ml', 'Valparin 40mg/ml', 'Tegretol 20mg/ml'], 'Moving all four limbs equally': ['Clobazam 2.5mg/ml', 'Levetiracetam 100mg/ml', 'Valparin 40mg/ml', 'Tegretol 20mg/ml'], 'Insidious onset gradually progressive bilaterally asymmetrical (left>right) lower limb weakness': ['Tab Rejunex CD3', 'Tab Cefixime 200 mg'], 'Normal cerebellar system': ['Clobazam 2.5mg/ml', 'Levetiracetam 100mg/ml', 'Valparin 40mg/ml', 'Tegretol 20mg/ml'], 'Arterial feeder from left L2 & left L1 segmental spinal artery': ['Tab Rejunex CD3', 'Tab Cefixime 200 mg']}\n"
     ]
    }
   ],
   "source": [
    "neighbors = retriever.get_immediate_neighbors(similar_items)\n",
    "print(neighbors)"
   ]
  },
  {
   "cell_type": "code",
   "execution_count": null,
   "id": "dbb176a4-4add-4ed9-b7ea-e8bc09c71367",
   "metadata": {},
   "outputs": [],
   "source": []
  }
 ],
 "metadata": {
  "kernelspec": {
   "display_name": "Python 3.11",
   "language": "python",
   "name": "python311"
  },
  "language_info": {
   "codemirror_mode": {
    "name": "ipython",
    "version": 3
   },
   "file_extension": ".py",
   "mimetype": "text/x-python",
   "name": "python",
   "nbconvert_exporter": "python",
   "pygments_lexer": "ipython3",
   "version": "3.11.10"
  }
 },
 "nbformat": 4,
 "nbformat_minor": 5
}
