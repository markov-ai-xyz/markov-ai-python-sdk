{
 "cells": [
  {
   "cell_type": "code",
   "execution_count": 2,
   "id": "317e38c6-7a17-4e05-9e16-0047ef82c323",
   "metadata": {},
   "outputs": [],
   "source": [
    "from markov_ai import PreProcessor"
   ]
  },
  {
   "cell_type": "code",
   "execution_count": 3,
   "id": "7dd6cc02-03dd-4fa2-b250-6b773ff3eddc",
   "metadata": {},
   "outputs": [
    {
     "data": {
      "text/plain": [
       "True"
      ]
     },
     "execution_count": 3,
     "metadata": {},
     "output_type": "execute_result"
    }
   ],
   "source": [
    "import os\n",
    "from dotenv import load_dotenv\n",
    "load_dotenv()"
   ]
  },
  {
   "cell_type": "code",
   "execution_count": 4,
   "id": "f9a50a73-0850-476f-8442-ec0729a606d3",
   "metadata": {},
   "outputs": [],
   "source": [
    "api_key = os.getenv('MARKOV_AI_API_KEY')"
   ]
  },
  {
   "cell_type": "code",
   "execution_count": 8,
   "id": "849eba5c-bfa3-45d1-ad02-a446f7a9664b",
   "metadata": {},
   "outputs": [],
   "source": [
    "pre_processor = PreProcessor(api_key=api_key)"
   ]
  },
  {
   "cell_type": "code",
   "execution_count": 9,
   "id": "75eb4306-8c4d-450b-b41c-f19f361db847",
   "metadata": {},
   "outputs": [],
   "source": [
    "response = pre_processor.parse(\"A-sample-prescription-image-in-grayscale-version.png\")"
   ]
  },
  {
   "cell_type": "code",
   "execution_count": 10,
   "id": "810ccf29-9f9d-4f60-8906-65356d2877b7",
   "metadata": {},
   "outputs": [
    {
     "name": "stdout",
     "output_type": "stream",
     "text": [
      "{'blocks': [], 'segmented_image_url': 'https://file-destination.s3.ap-south-1.amazonaws.com/e338fb8a-61a8-4d11-8798-f2d7de7aa402'}\n"
     ]
    }
   ],
   "source": [
    "print(response)"
   ]
  },
  {
   "cell_type": "code",
   "execution_count": null,
   "id": "3490f9c1-7c32-4046-a05d-4c075cba2c82",
   "metadata": {},
   "outputs": [],
   "source": []
  }
 ],
 "metadata": {
  "kernelspec": {
   "display_name": "Python 3.11",
   "language": "python",
   "name": "python311"
  },
  "language_info": {
   "codemirror_mode": {
    "name": "ipython",
    "version": 3
   },
   "file_extension": ".py",
   "mimetype": "text/x-python",
   "name": "python",
   "nbconvert_exporter": "python",
   "pygments_lexer": "ipython3",
   "version": "3.11.10"
  }
 },
 "nbformat": 4,
 "nbformat_minor": 5
}
